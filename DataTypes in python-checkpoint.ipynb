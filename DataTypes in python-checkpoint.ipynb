{
 "cells": [
  {
   "cell_type": "code",
   "execution_count": 1,
   "id": "79436a47",
   "metadata": {},
   "outputs": [
    {
     "name": "stdout",
     "output_type": "stream",
     "text": [
      "apple\n"
     ]
    }
   ],
   "source": [
    "#For Loop\n",
    "fruits = [\"apple\", \"banana\", \"cherry\"]\n",
    "for x in fruits:\n",
    "  if x == \"banana\":\n",
    "    break\n",
    "  print(x)\n"
   ]
  },
  {
   "cell_type": "code",
   "execution_count": 2,
   "id": "9a1159ab",
   "metadata": {},
   "outputs": [
    {
     "name": "stdout",
     "output_type": "stream",
     "text": [
      "Enter a number: 10\n",
      "Enter a number: 79\n",
      "x is  present in given list\n",
      "y is NOT present in given list\n"
     ]
    }
   ],
   "source": [
    "#Membership Operators(in,not in)\n",
    "x = int(input(\"Enter a number: \"))\n",
    "y = int(input(\"Enter a number: \"))\n",
    "list = [10, 20, 30, 40, 50 ];\n",
    " \n",
    "if ( x not in list ):\n",
    "   print(\"x is NOT present in given list\")\n",
    "else:\n",
    "   print(\"x is  present in given list\")\n",
    " \n",
    "if ( y in list ):\n",
    "   print(\"y is present in given list\")\n",
    "else:\n",
    "   print(\"y is NOT present in given list\")"
   ]
  },
  {
   "cell_type": "code",
   "execution_count": 9,
   "id": "bf91cc19",
   "metadata": {},
   "outputs": [
    {
     "name": "stdout",
     "output_type": "stream",
     "text": [
      "{'a': 0, 'b': 1, 'c': 2}\n"
     ]
    }
   ],
   "source": [
    "list = ['a', 'b', 'c']\n",
    "dictionary = {}\n",
    "counter = 0\n",
    "for i in list:\n",
    "   dictionary[i] = counter\n",
    "   counter += 1\n",
    "\n",
    "print(dictionary) # dictionary = {'a':0, 'b':1, 'c':2}\n",
    "\n"
   ]
  },
  {
   "cell_type": "code",
   "execution_count": 11,
   "id": "4df010b3",
   "metadata": {},
   "outputs": [
    {
     "name": "stdout",
     "output_type": "stream",
     "text": [
      "The original list is : [5, 7, 8, 2, 3, 5, 1]\n",
      "The required Negative index : -3\n"
     ]
    }
   ],
   "source": [
    "# working of Negative index of Element\n",
    "# Using ~ operator + list slicing + index()\n",
    " \n",
    "# initializing list\n",
    "test_list = [5, 7, 8, 2, 3, 5, 1]\n",
    " \n",
    "# printing original list\n",
    "print(\"The original list is : \" + str(test_list))\n",
    " \n",
    "# initializing Element\n",
    "K = 3\n",
    " \n",
    "# -1 operator to reverse list, index() used to get index\n",
    "res = ~test_list[::-1].index(K)\n",
    " \n",
    "# printing result\n",
    "print(\"The required Negative index : \" + str(res))\n"
   ]
  },
  {
   "cell_type": "code",
   "execution_count": 12,
   "id": "225c8e81",
   "metadata": {},
   "outputs": [
    {
     "name": "stdout",
     "output_type": "stream",
     "text": [
      "slice(None, 5, None)\n",
      "slice(0, 5, 3)\n"
     ]
    }
   ],
   "source": [
    "# Python slice() function example   \n",
    "result = slice(5) # returns slice object  \n",
    "result2 = slice(0,5,3) # returns slice object  \n",
    "# Displaying result  \n",
    "print(result)  \n",
    "print(result2)  \n"
   ]
  },
  {
   "cell_type": "code",
   "execution_count": 13,
   "id": "4dfa8e35",
   "metadata": {},
   "outputs": [
    {
     "name": "stdout",
     "output_type": "stream",
     "text": [
      "['cc', 'dd', ['eee', 'fff']]\n",
      "['eee', 'fff']\n",
      "eee\n"
     ]
    }
   ],
   "source": [
    "#Nested list using slicing\n",
    "# Prints ['cc', 'dd', ['eee', 'fff']]\n",
    "print(L[2][2])\n",
    "# Prints ['eee', 'fff']\n",
    "print(L[2][2][0])\n",
    "# Prints eee\n"
   ]
  },
  {
   "cell_type": "code",
   "execution_count": null,
   "id": "c306bf6d",
   "metadata": {},
   "outputs": [],
   "source": []
  }
 ],
 "metadata": {
  "kernelspec": {
   "display_name": "Python 3 (ipykernel)",
   "language": "python",
   "name": "python3"
  },
  "language_info": {
   "codemirror_mode": {
    "name": "ipython",
    "version": 3
   },
   "file_extension": ".py",
   "mimetype": "text/x-python",
   "name": "python",
   "nbconvert_exporter": "python",
   "pygments_lexer": "ipython3",
   "version": "3.9.7"
  }
 },
 "nbformat": 4,
 "nbformat_minor": 5
}
